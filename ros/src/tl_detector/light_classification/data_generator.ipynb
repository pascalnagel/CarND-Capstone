{
 "cells": [
  {
   "cell_type": "code",
   "execution_count": 1,
   "metadata": {},
   "outputs": [],
   "source": [
    "from PIL import Image, ImageEnhance\n",
    "import glob\n",
    "import random\n",
    "from pascal_voc_writer import Writer\n",
    "from tqdm import tqdm"
   ]
  },
  {
   "cell_type": "code",
   "execution_count": 2,
   "metadata": {},
   "outputs": [],
   "source": [
    "backgrounds = glob.glob(\"backgrounds/*.jpg\")\n",
    "classes = {0: 'RED', 1: 'YELLOW', 2: 'GREEN'}\n",
    "no_crops = {0: 10, 1: 4, 2: 4}\n",
    "no_training_samples = 25000"
   ]
  },
  {
   "cell_type": "code",
   "execution_count": 3,
   "metadata": {},
   "outputs": [],
   "source": [
    "img_counter = 0"
   ]
  },
  {
   "cell_type": "code",
   "execution_count": 4,
   "metadata": {},
   "outputs": [
    {
     "name": "stderr",
     "output_type": "stream",
     "text": [
      "100%|██████████| 25000/25000 [06:34<00:00, 63.32it/s]\n"
     ]
    }
   ],
   "source": [
    "for i in tqdm(range(no_training_samples)):\n",
    "    img_filename = \"models/images/{:0>6d}\".format(img_counter)+\".jpg\"\n",
    "    background = Image.open(random.choice(backgrounds))\n",
    "    writer = Writer(img_filename, background.size[0], background.size[1])\n",
    "    imgclass = random.randint(0,2)\n",
    "    \n",
    "    crop = Image.open(\"crops/\"+classes[imgclass].lower()+\"_crop_\"+str(random.randint(1, no_crops[imgclass]))+\".jpg\")\n",
    "        \n",
    "    new_crop_width = random.randint(10, crop.size[0])\n",
    "    new_crop_height = int(crop.size[1]*new_crop_width/crop.size[0])\n",
    "    crop = crop.resize((new_crop_width, new_crop_height))\n",
    "        \n",
    "    new_crop_brightness = random.uniform(0.7, 1.5)\n",
    "    enhancer = ImageEnhance.Brightness(crop)\n",
    "    crop = enhancer.enhance(new_crop_brightness)\n",
    "        \n",
    "    xmin = random.randint(0, background.size[0] - crop.size[0])\n",
    "    xmax = xmin + crop.size[0]\n",
    "    ymin = random.randint(0, background.size[1] - crop.size[1])\n",
    "    ymax = ymin + crop.size[1]\n",
    "    background.paste(crop, (xmin, ymin))\n",
    "        \n",
    "    writer.addObject(classes[imgclass], xmin, ymin, xmax, ymax)\n",
    "        \n",
    "    background.save(img_filename)\n",
    "    writer.save(\"models/annotations/xmls/{:0>6d}\".format(img_counter)+\".xml\")\n",
    "    img_counter += 1"
   ]
  },
  {
   "cell_type": "code",
   "execution_count": 5,
   "metadata": {},
   "outputs": [],
   "source": [
    "with open(\"models/annotations/trainval.txt\", \"w\") as f:\n",
    "    f.write(\"\\n\".join([\"{:0>6d}\".format(i) for i in range(no_training_samples)]))"
   ]
  },
  {
   "cell_type": "code",
   "execution_count": 94,
   "metadata": {},
   "outputs": [],
   "source": [
    "#background.show()"
   ]
  }
 ],
 "metadata": {
  "kernelspec": {
   "display_name": "Python 3",
   "language": "python",
   "name": "python3"
  },
  "language_info": {
   "codemirror_mode": {
    "name": "ipython",
    "version": 3
   },
   "file_extension": ".py",
   "mimetype": "text/x-python",
   "name": "python",
   "nbconvert_exporter": "python",
   "pygments_lexer": "ipython3",
   "version": "3.7.5"
  }
 },
 "nbformat": 4,
 "nbformat_minor": 2
}
